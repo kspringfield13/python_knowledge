{
 "cells": [
  {
   "cell_type": "markdown",
   "metadata": {},
   "source": [
    "### 1. Creating Variables\n",
    "* Save the number 15 to a variable named `a`.\n",
    "* Save the number 2.5 to a variable named `b`."
   ]
  },
  {
   "cell_type": "code",
   "execution_count": null,
   "metadata": {},
   "outputs": [],
   "source": []
  },
  {
   "cell_type": "markdown",
   "metadata": {},
   "source": [
    "### 2. Functions\n",
    "* Create a function that adds `a` and `b` and returns the result\n",
    "* Create a function that subtracts `b` from `a` and returns the result\n",
    "* Create two functions that return `0` in two different ways."
   ]
  },
  {
   "cell_type": "code",
   "execution_count": null,
   "metadata": {},
   "outputs": [],
   "source": []
  },
  {
   "cell_type": "code",
   "execution_count": null,
   "metadata": {},
   "outputs": [],
   "source": []
  },
  {
   "cell_type": "markdown",
   "metadata": {},
   "source": [
    "### 3. DataFrames\n",
    "* import the module pandas as pd\n",
    "* Read the CSV 'mbtzsum' (in working directory) to a variable named tradezones.\n",
    "HINT : pd.read_csv('mbtzsum.csv') will pull the file into a pandas dataframe.\n",
    "print out the first 5 rows of tradezones."
   ]
  },
  {
   "cell_type": "code",
   "execution_count": null,
   "metadata": {},
   "outputs": [],
   "source": []
  },
  {
   "cell_type": "code",
   "execution_count": null,
   "metadata": {},
   "outputs": [],
   "source": []
  },
  {
   "cell_type": "markdown",
   "metadata": {},
   "source": [
    "### 4. Booleans\n",
    "* Save `True` to a boolean `bix`\n",
    "* Create function with one argument `bix` with the following result:\n",
    "    * `prints` `a` if `bix` is `True`\n",
    "    * `prints` `b` if `bix` is `False`\n",
    "* Assign a variable `bix_false` to be False without actually saving `False` to `bix_false`.\n",
    "    * HINT : use `a` and `b`, `<`, or `>`\n",
    "* Assign a variable `bix_true` to be False without actually saving `True` to `bix_true`.\n",
    "    * HINT : use `a` and `b`, `<`, or `>`\n",
    "* Test `bix_true` and `bix_false` both in jupyter outputs and the function result"
   ]
  },
  {
   "cell_type": "code",
   "execution_count": null,
   "metadata": {},
   "outputs": [],
   "source": []
  },
  {
   "cell_type": "markdown",
   "metadata": {},
   "source": [
    "### 5. Column / Series Operations\n",
    "* Multiply columns `hh_cy` and `pct_white_non_hispanic`\n",
    "* Save a multiplication of columns `pop_cy` and `pct_white_non_hispanic` to a new column named `'num_white_non_hispanic'`.\n",
    "* Take columns `'mpitradezone'`, `'dmaname'`, `'pop_cy'`, `'num_white_non_hispanic'` to a variable `rel_cols`\n",
    "* print out the unique `dmaname` values in `rel_cols`\n",
    "* fill nans in `dmaname` with an empty string (`''`)\n",
    "    * HINT : be sure to save over column `dmaname`\n",
    "* print out the number of rows and columns in `rel_cols`"
   ]
  },
  {
   "cell_type": "code",
   "execution_count": null,
   "metadata": {},
   "outputs": [],
   "source": []
  },
  {
   "cell_type": "markdown",
   "metadata": {},
   "source": [
    "### 6. Boolean Indexing\n",
    "* Find all rows where `dmaname` has Florida (FL) in the name (DMA is in Florida)\n",
    "* Find the number of tradezones where `dmaname` has Florida (TN) or Tennessee (TN) (DMA is in FL or TN)"
   ]
  },
  {
   "cell_type": "code",
   "execution_count": null,
   "metadata": {},
   "outputs": [],
   "source": []
  },
  {
   "cell_type": "code",
   "execution_count": null,
   "metadata": {},
   "outputs": [],
   "source": []
  }
 ],
 "metadata": {
  "kernelspec": {
   "display_name": "Python 2 [ analysis-preview ]",
   "language": "python",
   "name": "analysis-preview-latest"
  },
  "language_info": {
   "codemirror_mode": {
    "name": "ipython",
    "version": 2
   },
   "file_extension": ".py",
   "mimetype": "text/x-python",
   "name": "python",
   "nbconvert_exporter": "python",
   "pygments_lexer": "ipython2",
   "version": "2.7.15"
  }
 },
 "nbformat": 4,
 "nbformat_minor": 2
}
